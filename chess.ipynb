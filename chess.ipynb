{
 "cells": [
  {
   "cell_type": "code",
   "execution_count": 6,
   "metadata": {},
   "outputs": [],
   "source": [
    "import pandas as pd\n",
    "import matplotlib.pyplot as plt\n",
    "import numpy as np\n",
    "from sklearn.linear_model import LinearRegression\n",
    "from sklearn.metrics import mean_squared_error, r2_score\n",
    "\n",
    "df = pd.read_csv('datasets/players_in_chess.csv')\n",
    "\n",
    "# df = df.sort_values('rating', ascending=True)\n",
    "\n",
    "plt.style.use('dark_background')"
   ]
  },
  {
   "cell_type": "code",
   "execution_count": 7,
   "metadata": {},
   "outputs": [
    {
     "ename": "MemoryError",
     "evalue": "Unable to allocate 107. GiB for an array with shape (120021, 120021) and data type float64",
     "output_type": "error",
     "traceback": [
      "\u001b[1;31m---------------------------------------------------------------------------\u001b[0m",
      "\u001b[1;31mMemoryError\u001b[0m                               Traceback (most recent call last)",
      "Input \u001b[1;32mIn [7]\u001b[0m, in \u001b[0;36m<module>\u001b[1;34m\u001b[0m\n\u001b[0;32m      7\u001b[0m plt\u001b[38;5;241m.\u001b[39mylabel(\u001b[38;5;124m'\u001b[39m\u001b[38;5;124mBlitz Rating\u001b[39m\u001b[38;5;124m'\u001b[39m)\n\u001b[0;32m      8\u001b[0m plt\u001b[38;5;241m.\u001b[39mtitle(\u001b[38;5;124m'\u001b[39m\u001b[38;5;124mCorrelation Between FIDE and Blitz Ratings for Chess Players\u001b[39m\u001b[38;5;124m'\u001b[39m)\n\u001b[1;32m---> 10\u001b[0m model \u001b[38;5;241m=\u001b[39m \u001b[43mLinearRegression\u001b[49m\u001b[43m(\u001b[49m\u001b[43m)\u001b[49m\u001b[38;5;241;43m.\u001b[39;49m\u001b[43mfit\u001b[49m\u001b[43m(\u001b[49m\u001b[43mx\u001b[49m\u001b[43m,\u001b[49m\u001b[43m \u001b[49m\u001b[43my\u001b[49m\u001b[43m)\u001b[49m\n\u001b[0;32m     11\u001b[0m line \u001b[38;5;241m=\u001b[39m model\u001b[38;5;241m.\u001b[39mpredict(x)\n\u001b[0;32m     13\u001b[0m \u001b[38;5;66;03m# The coefficients\u001b[39;00m\n",
      "File \u001b[1;32md:\\Users\\hanzp\\Documents\\Python\\Big Data Challenge\\.venv310\\lib\\site-packages\\sklearn\\linear_model\\_base.py:718\u001b[0m, in \u001b[0;36mLinearRegression.fit\u001b[1;34m(self, X, y, sample_weight)\u001b[0m\n\u001b[0;32m    716\u001b[0m         \u001b[38;5;28mself\u001b[39m\u001b[38;5;241m.\u001b[39m_residues \u001b[38;5;241m=\u001b[39m np\u001b[38;5;241m.\u001b[39mvstack([out[\u001b[38;5;241m3\u001b[39m] \u001b[38;5;28;01mfor\u001b[39;00m out \u001b[38;5;129;01min\u001b[39;00m outs])\n\u001b[0;32m    717\u001b[0m \u001b[38;5;28;01melse\u001b[39;00m:\n\u001b[1;32m--> 718\u001b[0m     \u001b[38;5;28mself\u001b[39m\u001b[38;5;241m.\u001b[39mcoef_, \u001b[38;5;28mself\u001b[39m\u001b[38;5;241m.\u001b[39m_residues, \u001b[38;5;28mself\u001b[39m\u001b[38;5;241m.\u001b[39mrank_, \u001b[38;5;28mself\u001b[39m\u001b[38;5;241m.\u001b[39msingular_ \u001b[38;5;241m=\u001b[39m \u001b[43mlinalg\u001b[49m\u001b[38;5;241;43m.\u001b[39;49m\u001b[43mlstsq\u001b[49m\u001b[43m(\u001b[49m\u001b[43mX\u001b[49m\u001b[43m,\u001b[49m\u001b[43m \u001b[49m\u001b[43my\u001b[49m\u001b[43m)\u001b[49m\n\u001b[0;32m    719\u001b[0m     \u001b[38;5;28mself\u001b[39m\u001b[38;5;241m.\u001b[39mcoef_ \u001b[38;5;241m=\u001b[39m \u001b[38;5;28mself\u001b[39m\u001b[38;5;241m.\u001b[39mcoef_\u001b[38;5;241m.\u001b[39mT\n\u001b[0;32m    721\u001b[0m \u001b[38;5;28;01mif\u001b[39;00m y\u001b[38;5;241m.\u001b[39mndim \u001b[38;5;241m==\u001b[39m \u001b[38;5;241m1\u001b[39m:\n",
      "File \u001b[1;32md:\\Users\\hanzp\\Documents\\Python\\Big Data Challenge\\.venv310\\lib\\site-packages\\scipy\\linalg\\basic.py:1181\u001b[0m, in \u001b[0;36mlstsq\u001b[1;34m(a, b, cond, overwrite_a, overwrite_b, check_finite, lapack_driver)\u001b[0m\n\u001b[0;32m   1177\u001b[0m \u001b[38;5;28;01mif\u001b[39;00m m \u001b[38;5;241m<\u001b[39m n:\n\u001b[0;32m   1178\u001b[0m     \u001b[38;5;66;03m# need to extend b matrix as it will be filled with\u001b[39;00m\n\u001b[0;32m   1179\u001b[0m     \u001b[38;5;66;03m# a larger solution matrix\u001b[39;00m\n\u001b[0;32m   1180\u001b[0m     \u001b[38;5;28;01mif\u001b[39;00m \u001b[38;5;28mlen\u001b[39m(b1\u001b[38;5;241m.\u001b[39mshape) \u001b[38;5;241m==\u001b[39m \u001b[38;5;241m2\u001b[39m:\n\u001b[1;32m-> 1181\u001b[0m         b2 \u001b[38;5;241m=\u001b[39m \u001b[43mnp\u001b[49m\u001b[38;5;241;43m.\u001b[39;49m\u001b[43mzeros\u001b[49m\u001b[43m(\u001b[49m\u001b[43m(\u001b[49m\u001b[43mn\u001b[49m\u001b[43m,\u001b[49m\u001b[43m \u001b[49m\u001b[43mnrhs\u001b[49m\u001b[43m)\u001b[49m\u001b[43m,\u001b[49m\u001b[43m \u001b[49m\u001b[43mdtype\u001b[49m\u001b[38;5;241;43m=\u001b[39;49m\u001b[43mlapack_func\u001b[49m\u001b[38;5;241;43m.\u001b[39;49m\u001b[43mdtype\u001b[49m\u001b[43m)\u001b[49m\n\u001b[0;32m   1182\u001b[0m         b2[:m, :] \u001b[38;5;241m=\u001b[39m b1\n\u001b[0;32m   1183\u001b[0m     \u001b[38;5;28;01melse\u001b[39;00m:\n",
      "\u001b[1;31mMemoryError\u001b[0m: Unable to allocate 107. GiB for an array with shape (120021, 120021) and data type float64"
     ]
    },
    {
     "data": {
      "image/png": "[encoded data removed]",
      "text/plain": [
       "<Figure size 432x288 with 1 Axes>"
      ]
     },
     "metadata": {},
     "output_type": "display_data"
    }
   ],
   "source": [
    "df = df.dropna(axis=0, subset='blitz_rating')\n",
    "\n",
    "x = np.array(df[\"rating\"].tolist(), dtype=np.float64).reshape(1, -1)\n",
    "y = np.array(df[\"blitz_rating\"].tolist(), dtype=np.float64).reshape(1, -1)\n",
    "\n",
    "plt.xlabel('FIDE Rating')\n",
    "plt.ylabel('Blitz Rating')\n",
    "plt.title('Correlation Between FIDE and Blitz Ratings for Chess Players')\n",
    "\n",
    "model = LinearRegression().fit(x, y)\n",
    "line = model.predict(x)\n",
    "\n",
    "# The coefficients\n",
    "print(\"Coefficients: \\n\", model.coef_)\n",
    "# The mean squared error\n",
    "print(\"Mean squared error: %.2f\" % mean_squared_error(y, line))\n",
    "# The coefficient of determination: 1 is perfect prediction\n",
    "print(\"Coefficient of determination: %.2f\" % r2_score(y, line))\n",
    "\n",
    "plt.title(\"Share of Energy Production From\\nRenewable Sources vs Deaths Due to Air Pollution Per Capita\")\n",
    "plt.xlabel(\"Share of Energy Production From Renewable Sources (%)\")\n",
    "plt.ylabel(\"Deaths due to air pollution (per 100,000 people)\")\n",
    "plt.savefig('output\\dths_rnw.jpg', dpi=600)\n",
    "\n",
    "# model = np.poly1d(np.polyfit(x, y, 4))\n",
    "\n",
    "# line = np.linspace(min(x), max(x), 1000)\n",
    "\n",
    "plt.scatter(x, y, 0.1, \"lime\", \",\", alpha=0.3)\n",
    "plt.plot(x, line, color=\"orange\", linewidth=1.2)\n",
    "\n",
    "plt.savefig('output/correlation_between_fide_and_blitz.jpg', dpi=900)"
   ]
  },
  {
   "cell_type": "code",
   "execution_count": null,
   "metadata": {},
   "outputs": [],
   "source": [
    "# x = np.array(df[\"rating\"].tolist(), dtype=np.float64)\n",
    "# y = np.array(df[\"blitz_rating\"].tolist(), dtype=np.float64)\n",
    "\n",
    "# plt.scatter(x, y, 0.1, alpha=0.2)\n",
    "# plt.xlabel('FIDE Rating')\n",
    "# plt.ylabel('Blitz Rating')\n",
    "# plt.title('Correlation Between FIDE and Blitz Ratings for Chess Players')\n",
    "\n",
    "# m, b = np.polyfit(x, y, 1)\n",
    "\n",
    "# plt.plot(x, m*x + b, color='orange', label=\"Best fit\")\n",
    "\n",
    "# plt.legend()\n",
    "\n",
    "# plt.savefig('graph.jpg', dpi=300)"
   ]
  },
  {
   "cell_type": "code",
   "execution_count": null,
   "metadata": {},
   "outputs": [],
   "source": [
    "plt.pie(df['sex'].value_counts(), autopct='%1.1f%%', labels=['Male', 'Female'], colors=['Blue', 'Green'])\n",
    "plt.ylabel('Sex')\n",
    "plt.title('FIDE Registered Chess Players')\n",
    "\n",
    "plt.savefig('output/sex_of_chess_players.jpg', dpi=300)"
   ]
  }
 ],
 "metadata": {
  "interpreter": {
   "hash": "fc045438215222d91151b66fcb5f13efecbb76733be069dca5acea7cec89078a"
  },
  "kernelspec": {
   "display_name": "Python 3.9.5 64-bit ('.venv39': venv)",
   "language": "python",
   "name": "python3"
  },
  "language_info": {
   "codemirror_mode": {
    "name": "ipython",
    "version": 3
   },
   "file_extension": ".py",
   "mimetype": "text/x-python",
   "name": "python",
   "nbconvert_exporter": "python",
   "pygments_lexer": "ipython3",
   "version": "3.10.2"
  },
  "orig_nbformat": 4
 },
 "nbformat": 4,
 "nbformat_minor": 2
}
